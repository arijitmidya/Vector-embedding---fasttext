{
  "nbformat": 4,
  "nbformat_minor": 0,
  "metadata": {
    "colab": {
      "provenance": []
    },
    "kernelspec": {
      "name": "python3",
      "display_name": "Python 3"
    },
    "language_info": {
      "name": "python"
    }
  },
  "cells": [
    {
      "cell_type": "code",
      "execution_count": 12,
      "metadata": {
        "id": "ETCnIDEmXjIF"
      },
      "outputs": [],
      "source": [
        "import gensim.downloader as api\n",
        "from sklearn.metrics.pairwise import cosine_similarity"
      ]
    },
    {
      "cell_type": "code",
      "source": [
        "# Download the FastText model\n",
        "\n",
        "FT = api.load('fasttext-wiki-news-subwords-300')"
      ],
      "metadata": {
        "colab": {
          "base_uri": "https://localhost:8080/"
        },
        "id": "0sf9vRhNlMvk",
        "outputId": "7074b1f0-efd1-4bea-e0c7-6cb0751a5f07"
      },
      "execution_count": 3,
      "outputs": [
        {
          "metadata": {
            "tags": null
          },
          "name": "stdout",
          "output_type": "stream",
          "text": [
            "[==================================================] 100.0% 958.5/958.4MB downloaded\n"
          ]
        }
      ]
    },
    {
      "cell_type": "code",
      "source": [
        "result = FT.most_similar(positive = ['woman','king'], negative = ['man'],topn = 1)\n",
        "print(result)"
      ],
      "metadata": {
        "colab": {
          "base_uri": "https://localhost:8080/"
        },
        "id": "fSmX6V87t1Ql",
        "outputId": "edd6d5bf-3098-4a06-ebce-0a9dc6f72392"
      },
      "execution_count": 16,
      "outputs": [
        {
          "output_type": "stream",
          "name": "stdout",
          "text": [
            "[('queen', 0.7786749005317688)]\n"
          ]
        }
      ]
    },
    {
      "cell_type": "code",
      "source": [
        "result = FT.most_similar(positive=['happy'], negative=['sad'], topn=5)\n",
        "print(result)"
      ],
      "metadata": {
        "colab": {
          "base_uri": "https://localhost:8080/"
        },
        "id": "GEDOJgkvt6Zd",
        "outputId": "b495e27f-df0e-4f84-e104-030e6cfcd9ba"
      },
      "execution_count": 17,
      "outputs": [
        {
          "output_type": "stream",
          "name": "stdout",
          "text": [
            "[('satisfied', 0.3356468081474304), ('happily', 0.33407753705978394), ('able', 0.33106449246406555), ('willing', 0.3252762258052826), ('optimally', 0.3208603262901306)]\n"
          ]
        }
      ]
    },
    {
      "cell_type": "code",
      "source": [
        "result = FT.most_similar(positive=['apple', 'mango'], topn=5)\n",
        "print(result)"
      ],
      "metadata": {
        "colab": {
          "base_uri": "https://localhost:8080/"
        },
        "id": "GvuWkQIpuC3w",
        "outputId": "47f6dec3-aba3-4f70-c5fd-737e071cc022"
      },
      "execution_count": 18,
      "outputs": [
        {
          "output_type": "stream",
          "name": "stdout",
          "text": [
            "[('fruit', 0.752424418926239), ('pear', 0.7460829615592957), ('peach', 0.7446091771125793), ('guava', 0.7424781918525696), ('apples', 0.7392957806587219)]\n"
          ]
        }
      ]
    },
    {
      "cell_type": "code",
      "source": [
        "result = FT.most_similar(positive=['cat', 'dog', 'bird'], topn=5)\n",
        "print(result)"
      ],
      "metadata": {
        "colab": {
          "base_uri": "https://localhost:8080/"
        },
        "id": "c_HlukKFuKGP",
        "outputId": "5098965d-30d4-4fcc-cebb-ab70d0434203"
      },
      "execution_count": 19,
      "outputs": [
        {
          "output_type": "stream",
          "name": "stdout",
          "text": [
            "[('pet', 0.7837895750999451), ('cats', 0.749220073223114), ('housecat', 0.7482748031616211), ('puppy', 0.7481682896614075), ('kitten', 0.7476016879081726)]\n"
          ]
        }
      ]
    },
    {
      "cell_type": "code",
      "source": [
        "result = FT.most_similar(positive=['apple', 'mango'], topn=5)\n",
        "print(result)"
      ],
      "metadata": {
        "colab": {
          "base_uri": "https://localhost:8080/"
        },
        "id": "tnBEKmYFuRIz",
        "outputId": "26bb6bb1-b79c-4d85-e138-7011eed3c795"
      },
      "execution_count": 20,
      "outputs": [
        {
          "output_type": "stream",
          "name": "stdout",
          "text": [
            "[('fruit', 0.752424418926239), ('pear', 0.7460829615592957), ('peach', 0.7446091771125793), ('guava', 0.7424781918525696), ('apples', 0.7392957806587219)]\n"
          ]
        }
      ]
    },
    {
      "cell_type": "code",
      "source": [
        "result = FT.most_similar(positive=['cat', 'dog', 'bird'], topn=5)\n",
        "print(result)"
      ],
      "metadata": {
        "colab": {
          "base_uri": "https://localhost:8080/"
        },
        "id": "bnw0Ic0ruV2l",
        "outputId": "e8059c35-a8b0-429b-dce7-998e0f36bfd2"
      },
      "execution_count": 21,
      "outputs": [
        {
          "output_type": "stream",
          "name": "stdout",
          "text": [
            "[('pet', 0.7837895750999451), ('cats', 0.749220073223114), ('housecat', 0.7482748031616211), ('puppy', 0.7481682896614075), ('kitten', 0.7476016879081726)]\n"
          ]
        }
      ]
    },
    {
      "cell_type": "code",
      "source": [
        "result = FT.most_similar(positive=['happy', 'joyful', 'cheerful'], topn=5)\n",
        "print(result)"
      ],
      "metadata": {
        "colab": {
          "base_uri": "https://localhost:8080/"
        },
        "id": "ybKGla6Nubwk",
        "outputId": "7ea8a65f-e717-4002-ab29-19c57e206271"
      },
      "execution_count": 22,
      "outputs": [
        {
          "output_type": "stream",
          "name": "stdout",
          "text": [
            "[('joyous', 0.8671439290046692), ('cheery', 0.8135861754417419), ('happy-sad', 0.7885398268699646), ('pleasant', 0.7569724321365356), ('delightful', 0.7565163373947144)]\n"
          ]
        }
      ]
    },
    {
      "cell_type": "code",
      "source": [
        "result = FT.most_similar(positive=['blue', 'sky'], negative=['red'], topn=1)\n",
        "print(result)"
      ],
      "metadata": {
        "colab": {
          "base_uri": "https://localhost:8080/"
        },
        "id": "czBf3E2uuidk",
        "outputId": "678923b6-57c9-4367-96a9-73ec41fd2e9c"
      },
      "execution_count": 23,
      "outputs": [
        {
          "output_type": "stream",
          "name": "stdout",
          "text": [
            "[('skies', 0.7202131152153015)]\n"
          ]
        }
      ]
    },
    {
      "cell_type": "code",
      "source": [
        "result = FT.most_similar(positive=['chocolate', 'coffee', 'tea'], topn=5)\n",
        "print(result)"
      ],
      "metadata": {
        "colab": {
          "base_uri": "https://localhost:8080/"
        },
        "id": "nibxNtohuoZG",
        "outputId": "d0b6db34-7b97-4793-ba63-e825fd89383a"
      },
      "execution_count": 24,
      "outputs": [
        {
          "output_type": "stream",
          "name": "stdout",
          "text": [
            "[('non-coffee', 0.7600222229957581), ('coffees', 0.7567663192749023), ('coffeee', 0.7525761127471924), ('cocoa', 0.7474713325500488), ('coffe', 0.737597644329071)]\n"
          ]
        }
      ]
    },
    {
      "cell_type": "code",
      "source": [
        "result = FT.most_similar(positive=['book', 'read'], negative=['page'], topn=3)\n",
        "print(result)"
      ],
      "metadata": {
        "colab": {
          "base_uri": "https://localhost:8080/"
        },
        "id": "g7sXvZOzuvmn",
        "outputId": "c0650480-41ab-40e2-abe0-2583a85cd677"
      },
      "execution_count": 25,
      "outputs": [
        {
          "output_type": "stream",
          "name": "stdout",
          "text": [
            "[('re-read', 0.6394577622413635), ('reading', 0.6095253229141235), ('reread', 0.6090525388717651)]\n"
          ]
        }
      ]
    },
    {
      "cell_type": "code",
      "source": [
        "result = FT.most_similar(positive=['life', 'meaning'], negative=['death'], topn=5)\n",
        "print(result)"
      ],
      "metadata": {
        "colab": {
          "base_uri": "https://localhost:8080/"
        },
        "id": "XDxFCqXzu0H2",
        "outputId": "854fe7c3-40f9-4458-e339-20baa71eed7a"
      },
      "execution_count": 26,
      "outputs": [
        {
          "output_type": "stream",
          "name": "stdout",
          "text": [
            "[('meaning-', 0.6377577185630798), ('meanings', 0.6298803687095642), ('meaning-making', 0.6161390542984009), ('sense', 0.5768017768859863), ('everyday', 0.5645766854286194)]\n"
          ]
        }
      ]
    },
    {
      "cell_type": "code",
      "source": [],
      "metadata": {
        "id": "zMYr7-Efu7BT"
      },
      "execution_count": null,
      "outputs": []
    }
  ]
}